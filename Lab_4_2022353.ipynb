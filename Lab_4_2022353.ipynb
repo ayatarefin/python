{
  "nbformat": 4,
  "nbformat_minor": 0,
  "metadata": {
    "colab": {
      "provenance": []
    },
    "kernelspec": {
      "name": "python3",
      "display_name": "Python 3"
    },
    "language_info": {
      "name": "python"
    }
  },
  "cells": [
    {
      "cell_type": "markdown",
      "source": [
        "<a href=\"https://colab.research.google.com/github/mirsazzathossain/CSE317-Lab/blob/autumn_2022/Lab_Assignment_04.ipynb\" target=\"_parent\"><img src=\"https://colab.research.google.com/assets/colab-badge.svg\" alt=\"Open In Colab\"/></a>"
      ],
      "metadata": {
        "id": "5c7AUZ3jMJY_"
      }
    },
    {
      "cell_type": "markdown",
      "source": [
        "**Name:** Ayatullah Arefin"
      ],
      "metadata": {
        "id": "GfulvPKJNndq"
      }
    },
    {
      "cell_type": "markdown",
      "source": [
        "**ID:** 2022353"
      ],
      "metadata": {
        "id": "qWvSNINuNtpw"
      }
    },
    {
      "cell_type": "markdown",
      "source": [
        "#### **Polynomial Regression**\n",
        "\n",
        "In this assignment, you will implement polynomial regression and apply it to the [Assignment 4 Dataset](https://minhaskamal.github.io/DownGit/#/home?url=https://github.com/mirsazzathossain/CSE317-Lab-Numerical-Methods/blob/main/datasets/data.csv).\n",
        "\n",
        "The dataset contains two columns, the first column is the feature and the second column is the label. The goal is find the best fit line for the data.\n",
        "\n",
        "You will need to perform the following regression tasks and find the best one for the dataset.\n",
        "\n",
        "1.    **Linear Regression:**\n",
        "\n",
        "     The equation we are trying to fit is:\n",
        "     $$y = \\theta_0 + \\theta_1 x$$\n",
        "     where $x$ is the feature and $y$ is the label.\n",
        "\n",
        "     We can rewrite the equation in vector form as:\n",
        "$$Y = X\\theta$$ where $X$ is a matrix with two columns, the first column is all 1s and the second column is the feature, and $Y$ is a vector with the labels. $\\theta$ is a vector with two elements, $\\theta_0$ and $\\theta_1$. The $X$ matrix will look like this:\n",
        "$$X = \\begin{bmatrix} 1 & x_1 \\\\ 1 & x_2 \\\\ \\vdots & \\vdots \\\\ 1 & x_n \\end{bmatrix}$$\n",
        "2. **Quadratic Regression:**\n",
        "\n",
        "     The equation we are trying to fit is:\n",
        "     $$y = \\theta_0 + \\theta_1 x + \\theta_2 x^2$$\n",
        "     where $x$ is the feature and $y$ is the label.\n",
        "\n",
        "     We can rewrite the equation in vector form as:\n",
        "$$Y = X\\theta$$where $X$ is a matrix with three columns, the first column is all 1s, the second column is the feature, and the third column is the feature squared, and $Y$ is a vector with the labels. $\\theta$ is a vector with three elements, $\\theta_0$, $\\theta_1$, and $\\theta_2$. The $X$ matrix will look like this:\n",
        "\n",
        "$$X = \\begin{bmatrix} 1 & x_1 & x_1^2 \\\\ 1 & x_2 & x_2^2 \\\\ \\vdots & \\vdots & \\vdots \\\\ 1 & x_n & x_n^2 \\end{bmatrix}$$\n",
        "3. **Cubic Regression:**\n",
        "\n",
        "     The equation we are trying to fit is:\n",
        "$$y = \\theta_0 + \\theta_1 x + \\theta_2 x^2 + \\theta_3 x^3$$\n",
        "     where $x$ is the feature and $y$ is the label.\n",
        "\n",
        "     We can rewrite the equation in vector form as:\n",
        "$$Y = X\\theta$$where $X$ is a matrix with four columns, the first column is all 1s, the second column is the feature, the third column is the feature squared, and the fourth column is the feature cubed, and $Y$ is a vector with the labels. $\\theta$ is a vector with four elements, $\\theta_0$, $\\theta_1$, $\\theta_2$, and $\\theta_3$. The $X$ matrix will look like this:\n",
        "$$X = \\begin{bmatrix} 1 & x_1 & x_1^2 & x_1^3 \\\\ 1 & x_2 & x_2^2 & x_2^3 \\\\ \\vdots & \\vdots & \\vdots & \\vdots \\\\ 1 & x_n & x_n^2 & x_n^3 \\end{bmatrix}$$\n",
        "\n",
        "Take 15 data points from the dataset and use them as the training set. Use the remaining data points as the test set. For each regression task, find the best $\\theta$ vector using the training set. Then, calculate the mean squared error (MSE) on the test set. Plot the training set, the test set (in a different color), and the best fit line for each regression task. Which regression task gives the best fit line? Which regression task gives the lowest MSE on the test set? Report your answers in a Markdown cell.\n",
        "\n",
        "**Note:** Do not use any built-in functions like `np.polyfit` or `sklearn.linear_model.LinearRegression` or any other built-in functions that perform polynomial regression. You must implement the regression tasks yourself."
      ],
      "metadata": {
        "id": "kAPQiFOHL9aw"
      }
    },
    {
      "cell_type": "code",
      "source": [
        "import numpy as np \n",
        "import matplotlib.pyplot as plt\n",
        "import pandas as pd"
      ],
      "metadata": {
        "id": "543DH1K3lOfB"
      },
      "execution_count": 1,
      "outputs": []
    },
    {
      "cell_type": "code",
      "source": [
        "dataset = pd.read_csv('data.csv',header = None)\n",
        "print(dataset)"
      ],
      "metadata": {
        "colab": {
          "base_uri": "https://localhost:8080/"
        },
        "id": "irHpjK-Yl-2R",
        "outputId": "9215ad88-d027-43ef-8431-8d7b92320c79"
      },
      "execution_count": 2,
      "outputs": [
        {
          "output_type": "stream",
          "name": "stdout",
          "text": [
            "           0           1\n",
            "0  -3.292157  -53.468412\n",
            "1   0.799528   -1.262560\n",
            "2  -0.936214   -3.506193\n",
            "3  -4.722680 -107.223200\n",
            "4  -3.602674  -49.131950\n",
            "5   4.931834    8.901224\n",
            "6  -0.850265   -5.466242\n",
            "7   2.454072   -5.762632\n",
            "8   2.309657   -0.600586\n",
            "9   0.768204    1.222678\n",
            "10  1.567869   -3.956637\n",
            "11 -2.362821  -21.989895\n",
            "12 -0.283113   -6.118123\n",
            "13  1.634975  -10.468440\n",
            "14  0.668410   -4.119557\n",
            "15  0.998977   -3.029419\n",
            "16 -2.482237  -21.761523\n",
            "17  2.615475   -1.512952\n",
            "18  1.060797   -4.754912\n",
            "19  4.562287    6.507233\n"
          ]
        }
      ]
    },
    {
      "cell_type": "code",
      "source": [
        "dataset.columns = ['feature', 'label']\n",
        "x = dataset.feature.to_numpy()\n",
        "y = dataset.label.to_numpy()\n",
        "\n",
        "x_train = x[:15]\n",
        "print('first 15 training set from feature:\\n',x_train)\n",
        "#print(x_train**0)\n",
        "#print(x_train**1)\n",
        "A = np.column_stack((x_train**i for i in range(2))) #Vandermoth Matrix \n",
        "print('first column is all 1s and the second column is the feature:\\n',A)"
      ],
      "metadata": {
        "colab": {
          "base_uri": "https://localhost:8080/"
        },
        "id": "MNTnqe5boDXy",
        "outputId": "0336585d-0d1a-4a7d-9996-175179f0e56c"
      },
      "execution_count": 19,
      "outputs": [
        {
          "output_type": "stream",
          "name": "stdout",
          "text": [
            "first 15 training set from feature:\n",
            " [-3.292157  0.799528 -0.936214 -4.72268  -3.602674  4.931834 -0.850265\n",
            "  2.454072  2.309657  0.768204  1.567869 -2.362821 -0.283113  1.634975\n",
            "  0.66841 ]\n",
            "first column is all 1s and the second column is the feature:\n",
            " [[ 1.       -3.292157]\n",
            " [ 1.        0.799528]\n",
            " [ 1.       -0.936214]\n",
            " [ 1.       -4.72268 ]\n",
            " [ 1.       -3.602674]\n",
            " [ 1.        4.931834]\n",
            " [ 1.       -0.850265]\n",
            " [ 1.        2.454072]\n",
            " [ 1.        2.309657]\n",
            " [ 1.        0.768204]\n",
            " [ 1.        1.567869]\n",
            " [ 1.       -2.362821]\n",
            " [ 1.       -0.283113]\n",
            " [ 1.        1.634975]\n",
            " [ 1.        0.66841 ]]\n"
          ]
        },
        {
          "output_type": "stream",
          "name": "stderr",
          "text": [
            "<ipython-input-19-d5cdffe0b085>:9: FutureWarning: arrays to stack must be passed as a \"sequence\" type such as list or tuple. Support for non-sequence iterables such as generators is deprecated as of NumPy 1.16 and will raise an error in the future.\n",
            "  A = np.column_stack((x_train**i for i in range(2))) #Vandermoth Matrix\n"
          ]
        }
      ]
    },
    {
      "cell_type": "code",
      "source": [
        "x_test = x[15:]\n",
        "print('remaining testing set from feature:\\n',x_test)\n",
        "y_train = y[:15]\n",
        "# print('first 15 training set from label:\\n',y_train)\n",
        "y_test = y[15:]\n",
        "# print('remaining testing set from label:\\n',y_test)"
      ],
      "metadata": {
        "colab": {
          "base_uri": "https://localhost:8080/"
        },
        "id": "X71l__kC5HTV",
        "outputId": "a3eabd4b-e77f-4cd8-80a9-16c16fef24cf"
      },
      "execution_count": 21,
      "outputs": [
        {
          "output_type": "stream",
          "name": "stdout",
          "text": [
            "remaining testing set from feature:\n",
            " [ 0.998977 -2.482237  2.615475  1.060797  4.562287]\n"
          ]
        }
      ]
    },
    {
      "cell_type": "code",
      "source": [
        "R_INV = np.linalg.inv(np.dot(A.T,A))      #R_Inverse\n",
        "Q_T = A.T           # Q_Transpose\n",
        "psu_INV = np.dot(R_INV,Q_T)         #pseudo Invers = R^(-1) * Q^T\n",
        "beta = np.dot(psu_INV, y_train)     #Theta\n",
        "\n",
        "print(beta)"
      ],
      "metadata": {
        "colab": {
          "base_uri": "https://localhost:8080/"
        },
        "id": "e4KK8D1d6qdk",
        "outputId": "9a194ee2-a876-4e98-9613-4751a59796c8"
      },
      "execution_count": 5,
      "outputs": [
        {
          "output_type": "stream",
          "name": "stdout",
          "text": [
            "[-16.9522281    9.46836384]\n"
          ]
        }
      ]
    },
    {
      "cell_type": "code",
      "source": [
        "y_new = np.zeros(5)\n",
        "for i in range(2):\n",
        "  y_new += beta[i] * x_test**i\n",
        "\n",
        "#y_new = beta[0] + beta[1] * x_test\n",
        "#y = Theta(0) + Theta(1) * x\n",
        "print(y_new)\n",
        "print(y_test)\n",
        "mse_linear = np.square(abs(y_new-y_test)).mean()\n",
        "print('MSE of Linear:\\n',mse_linear)"
      ],
      "metadata": {
        "colab": {
          "base_uri": "https://localhost:8080/"
        },
        "id": "V7VScSu0ErsS",
        "outputId": "6a7480e8-0bba-4cd2-e5ed-9334de0b3241"
      },
      "execution_count": 22,
      "outputs": [
        {
          "output_type": "stream",
          "name": "stdout",
          "text": [
            "[-1.2968117  -4.98353172  0.41511281 -1.23134228  2.47685069]\n",
            "[ -3.029419 -21.761523  -1.512952  -4.754912   6.507233]\n",
            "MSE of Linear:\n",
            " 63.37597569629844\n"
          ]
        }
      ]
    },
    {
      "cell_type": "code",
      "source": [
        "plt.scatter(x_train,y_train)\n",
        "plt.scatter(x_test,y_test,color='b')\n",
        "x_line = np.linspace(x.min(),x.max(),150)\n",
        "y_line_1 = np.zeros(150)\n",
        "for i in range(2):\n",
        "  y_line_1 += beta[i] * x_line**i\n",
        "plt.plot(x_line,y_line_1,color='r')\n",
        "plt.show()"
      ],
      "metadata": {
        "colab": {
          "base_uri": "https://localhost:8080/",
          "height": 265
        },
        "id": "PO9gSwIwHjEu",
        "outputId": "8784a8ba-0182-4c9d-dcb4-f401a010781e"
      },
      "execution_count": 7,
      "outputs": [
        {
          "output_type": "display_data",
          "data": {
            "text/plain": [
              "<Figure size 432x288 with 1 Axes>"
            ],
            "image/png": "[encoded data removed]"
          },
          "metadata": {
            "needs_background": "light"
          }
        }
      ]
    },
    {
      "cell_type": "code",
      "source": [
        "#2. Quadratic Regression\n",
        "\n",
        "A = np.column_stack((x_train**i for i in range(3)))\n",
        "print('the first column is all 1s, the second column is the feature, and the third column is the feature squared:\\n',A)"
      ],
      "metadata": {
        "colab": {
          "base_uri": "https://localhost:8080/"
        },
        "id": "E1GBtVy7H5QX",
        "outputId": "c3a5f807-8eb8-4be4-86bf-ae9417be4a48"
      },
      "execution_count": 23,
      "outputs": [
        {
          "output_type": "stream",
          "name": "stdout",
          "text": [
            "the first column is all 1s, the second column is the feature, and the third column is the feature squared:\n",
            " [[ 1.         -3.292157   10.83829771]\n",
            " [ 1.          0.799528    0.63924502]\n",
            " [ 1.         -0.936214    0.87649665]\n",
            " [ 1.         -4.72268    22.30370638]\n",
            " [ 1.         -3.602674   12.97925995]\n",
            " [ 1.          4.931834   24.3229866 ]\n",
            " [ 1.         -0.850265    0.72295057]\n",
            " [ 1.          2.454072    6.02246938]\n",
            " [ 1.          2.309657    5.33451546]\n",
            " [ 1.          0.768204    0.59013739]\n",
            " [ 1.          1.567869    2.4582132 ]\n",
            " [ 1.         -2.362821    5.58292308]\n",
            " [ 1.         -0.283113    0.08015297]\n",
            " [ 1.          1.634975    2.67314325]\n",
            " [ 1.          0.66841     0.44677193]]\n"
          ]
        },
        {
          "output_type": "stream",
          "name": "stderr",
          "text": [
            "<ipython-input-23-2c28263f39aa>:3: FutureWarning: arrays to stack must be passed as a \"sequence\" type such as list or tuple. Support for non-sequence iterables such as generators is deprecated as of NumPy 1.16 and will raise an error in the future.\n",
            "  A = np.column_stack((x_train**i for i in range(3)))\n"
          ]
        }
      ]
    },
    {
      "cell_type": "code",
      "source": [
        "R_INV = np.linalg.inv(np.dot(A.T,A))\n",
        "Q_T = A.T\n",
        "psu_INV = np.dot(R_INV,Q_T)\n",
        "beta = np.dot(psu_INV, y_train)\n",
        "print(beta)\n",
        "#theta[0], theta[1], theta[2]"
      ],
      "metadata": {
        "id": "E05gbvcsIOOx",
        "colab": {
          "base_uri": "https://localhost:8080/"
        },
        "outputId": "21d40393-65b4-48b7-9913-adce893c52bd"
      },
      "execution_count": 9,
      "outputs": [
        {
          "output_type": "stream",
          "name": "stdout",
          "text": [
            "[-5.50819178  8.71734491 -1.79770237]\n"
          ]
        }
      ]
    },
    {
      "cell_type": "code",
      "source": [
        "y_new = np.zeros(5)\n",
        "for i in range(3):\n",
        "  y_new += beta[i] * x_test**i\n",
        "print(y_new)\n",
        "#y_new = beta[0] * x_test**0 \n",
        "#y_new = beta[1] * x_test**1\n",
        "#y_new = beta[2] * x_test**2\n",
        "\n",
        "# y = beta[0] + beta[1] * x + beta[2] * x^2\n",
        "print(y_test)\n",
        "mse_quadratic = np.square(abs(y_new-y_test)).mean()\n",
        "print(mse_quadratic)"
      ],
      "metadata": {
        "colab": {
          "base_uri": "https://localhost:8080/"
        },
        "id": "cg_Slh6R_dkW",
        "outputId": "6dc47081-8677-487b-e442-0cc1ee0aebf0"
      },
      "execution_count": 10,
      "outputs": [
        {
          "output_type": "stream",
          "name": "stdout",
          "text": [
            "[  1.40620914 -38.22325198   4.99424626   1.71620456  -3.15537133]\n",
            "[ -3.029419 -21.761523  -1.512952  -4.754912   6.507233]\n",
            "93.64964381498447\n"
          ]
        }
      ]
    },
    {
      "cell_type": "code",
      "source": [
        "plt.scatter(x_train,y_train)\n",
        "plt.scatter(x_test,y_test,color='b')\n",
        "x_line = np.linspace(x.min(),x.max(),150)\n",
        "y_line_2 = np.zeros(150)\n",
        "for i in range(3):\n",
        "  y_line_2 += beta[i] * x_line**i\n",
        "plt.plot(x_line,y_line_2,color='r')\n",
        "plt.show()"
      ],
      "metadata": {
        "colab": {
          "base_uri": "https://localhost:8080/",
          "height": 265
        },
        "id": "cuyZs__Y_gwD",
        "outputId": "5ca8d189-b94a-4441-dcb6-031606218e92"
      },
      "execution_count": 11,
      "outputs": [
        {
          "output_type": "display_data",
          "data": {
            "text/plain": [
              "<Figure size 432x288 with 1 Axes>"
            ],
            "image/png": "[encoded data removed]"
          },
          "metadata": {
            "needs_background": "light"
          }
        }
      ]
    },
    {
      "cell_type": "code",
      "source": [
        "# 3 Cubic Regression\n",
        "A = np.column_stack((x_train**i for i in range(4)))\n",
        "print('the first column is all 1s, the second column is the feature, the third column is the feature squared, and the fourth column is the feature cubed:\\n',A)\n",
        "# y = beta[0] + beta[1] * x + beta[2] * x^2 + beta[3] * x^3"
      ],
      "metadata": {
        "colab": {
          "base_uri": "https://localhost:8080/"
        },
        "id": "D-PpF-fa_jlZ",
        "outputId": "16d3d798-35b1-4d19-8627-40ef6a1de947"
      },
      "execution_count": 24,
      "outputs": [
        {
          "output_type": "stream",
          "name": "stdout",
          "text": [
            "the first column is all 1s, the second column is the feature, the third column is the feature squared, and the fourth column is the feature cubed:\n",
            " [[ 1.00000000e+00 -3.29215700e+00  1.08382977e+01 -3.56813777e+01]\n",
            " [ 1.00000000e+00  7.99528000e-01  6.39245023e-01  5.11094295e-01]\n",
            " [ 1.00000000e+00 -9.36214000e-01  8.76496654e-01 -8.20588438e-01]\n",
            " [ 1.00000000e+00 -4.72268000e+00  2.23037064e+01 -1.05333268e+02]\n",
            " [ 1.00000000e+00 -3.60267400e+00  1.29792600e+01 -4.67600424e+01]\n",
            " [ 1.00000000e+00  4.93183400e+00  2.43229866e+01  1.19956932e+02]\n",
            " [ 1.00000000e+00 -8.50265000e-01  7.22950570e-01 -6.14699567e-01]\n",
            " [ 1.00000000e+00  2.45407200e+00  6.02246938e+00  1.47795735e+01]\n",
            " [ 1.00000000e+00  2.30965700e+00  5.33451546e+00  1.23209010e+01]\n",
            " [ 1.00000000e+00  7.68204000e-01  5.90137386e-01  4.53345900e-01]\n",
            " [ 1.00000000e+00  1.56786900e+00  2.45821320e+00  3.85415627e+00]\n",
            " [ 1.00000000e+00 -2.36282100e+00  5.58292308e+00 -1.31914479e+01]\n",
            " [ 1.00000000e+00 -2.83113000e-01  8.01529708e-02 -2.26923480e-02]\n",
            " [ 1.00000000e+00  1.63497500e+00  2.67314325e+00  4.37052239e+00]\n",
            " [ 1.00000000e+00  6.68410000e-01  4.46771928e-01  2.98626824e-01]]\n"
          ]
        },
        {
          "output_type": "stream",
          "name": "stderr",
          "text": [
            "<ipython-input-24-8924425d7e72>:2: FutureWarning: arrays to stack must be passed as a \"sequence\" type such as list or tuple. Support for non-sequence iterables such as generators is deprecated as of NumPy 1.16 and will raise an error in the future.\n",
            "  A = np.column_stack((x_train**i for i in range(4)))\n"
          ]
        }
      ]
    },
    {
      "cell_type": "code",
      "source": [
        "R_INV = np.linalg.inv(np.dot(A.T,A))\n",
        "Q_T = A.T\n",
        "psu_INV = np.dot(R_INV,Q_T)\n",
        "beta = np.dot(psu_INV, y_train)\n",
        "print(beta)"
      ],
      "metadata": {
        "colab": {
          "base_uri": "https://localhost:8080/"
        },
        "id": "ow2w4wkp_lvt",
        "outputId": "e185b64e-4723-4f52-8edc-4e089dd74c69"
      },
      "execution_count": 13,
      "outputs": [
        {
          "output_type": "stream",
          "name": "stdout",
          "text": [
            "[-2.35476117  1.05903286 -2.13182381  0.48560469]\n"
          ]
        }
      ]
    },
    {
      "cell_type": "code",
      "source": [
        "y_new = np.zeros(5)\n",
        "for i in range(4):\n",
        "  y_new += beta[i] * x_test**i\n",
        "print(y_new)\n",
        "\n",
        "#y_new = beta[0] * x_test**0 \n",
        "#y_new = beta[1] * x_test**1\n",
        "#y_new = beta[2] * x_test**2\n",
        "#y_new = beta[3] * x_test**3\n",
        "print(y_test)\n",
        "mse_cubic = np.square(abs(y_new-y_test)).mean()\n",
        "print(mse_cubic)"
      ],
      "metadata": {
        "colab": {
          "base_uri": "https://localhost:8080/"
        },
        "id": "JXaxCYSS_n-T",
        "outputId": "6931b8b2-e859-4e75-d3b5-34512a2cc183"
      },
      "execution_count": 14,
      "outputs": [
        {
          "output_type": "stream",
          "name": "stdout",
          "text": [
            "[ -2.94016013 -25.54575134  -5.47977877  -3.05059435   4.21785925]\n",
            "[ -3.029419 -21.761523  -1.512952  -4.754912   6.507233]\n",
            "7.6419993456270685\n"
          ]
        }
      ]
    },
    {
      "cell_type": "code",
      "source": [
        "plt.scatter(x_train,y_train)\n",
        "plt.scatter(x_test,y_test,color='b')\n",
        "x_line = np.linspace(x.min(),x.max(),150)\n",
        "y_line_3 = np.zeros(150)\n",
        "for i in range(4):\n",
        "  y_line_3 += beta[i] * x_line**i\n",
        "plt.plot(x_line,y_line_3,color='r')\n",
        "plt.show()"
      ],
      "metadata": {
        "colab": {
          "base_uri": "https://localhost:8080/",
          "height": 265
        },
        "id": "akPfSvMb_qAU",
        "outputId": "03051bf1-31cf-4474-ed53-c9abb7f2bddd"
      },
      "execution_count": 15,
      "outputs": [
        {
          "output_type": "display_data",
          "data": {
            "text/plain": [
              "<Figure size 432x288 with 1 Axes>"
            ],
            "image/png": "[encoded data removed]"
          },
          "metadata": {
            "needs_background": "light"
          }
        }
      ]
    },
    {
      "cell_type": "code",
      "source": [
        "plt.scatter(x_train,y_train)\n",
        "plt.scatter(x_test,y_test,color='b')\n",
        "plt.plot(x_line,y_line_3,color='r')\n",
        "plt.plot(x_line,y_line_2,color='b')\n",
        "plt.plot(x_line,y_line_1,color='g')\n",
        "plt.legend(['Cubic Regression','Quadratic Regression','Linear Regression'])\n",
        "plt.show()\n",
        "print(mse_linear)\n",
        "print(mse_quadratic)\n",
        "print(mse_cubic)"
      ],
      "metadata": {
        "colab": {
          "base_uri": "https://localhost:8080/",
          "height": 317
        },
        "id": "VUb-nOYF_tLV",
        "outputId": "ae782d5b-d7dc-40c4-82be-69dbfcea6e38"
      },
      "execution_count": 16,
      "outputs": [
        {
          "output_type": "display_data",
          "data": {
            "text/plain": [
              "<Figure size 432x288 with 1 Axes>"
            ],
            "image/png": "[encoded data removed]"
          },
          "metadata": {
            "needs_background": "light"
          }
        },
        {
          "output_type": "stream",
          "name": "stdout",
          "text": [
            "170.1101799797149\n",
            "93.64964381498447\n",
            "7.6419993456270685\n"
          ]
        }
      ]
    },
    {
      "cell_type": "markdown",
      "source": [
        "**1**.Which regression task gives the best fit line?\n",
        "\n"
      ],
      "metadata": {
        "id": "vJvjvqnDL5tI"
      }
    },
    {
      "cell_type": "code",
      "source": [
        "# ANSWER: From the graph we can see that the cubic Regression gives the best fit line"
      ],
      "metadata": {
        "id": "WB_hF7fONW5J"
      },
      "execution_count": 25,
      "outputs": []
    },
    {
      "cell_type": "markdown",
      "source": [
        "**2**.Which regression task gives the lowest MSE on the test set?"
      ],
      "metadata": {
        "id": "1Sci1BPNNQ0g"
      }
    },
    {
      "cell_type": "code",
      "source": [
        "# Answer: And also the lowest MSE is for the Cubic Regression on the test set."
      ],
      "metadata": {
        "id": "YfFaHnFmNdPX"
      },
      "execution_count": 26,
      "outputs": []
    }
  ]
}