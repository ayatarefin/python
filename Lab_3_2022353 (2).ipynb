{
  "cells": [
    {
      "cell_type": "markdown",
      "metadata": {
        "id": "3RJljra5hVWR"
      },
      "source": [
        "#### **Wheat Seed Classification**\n",
        "\n",
        "In this assignment, you will use the [Wheat Seed Dataset](https://archive.ics.uci.edu/ml/datasets/seeds) to classify the type of wheat seed based on the measurements of the seed. The dataset contains 7 attributes and 210 instances. The attributes are:\n",
        "\n",
        "1. Area\n",
        "2. Perimeter\n",
        "3. Compactness\n",
        "4. Length of Kernel\n",
        "5. Width of Kernel\n",
        "6. Asymmetry Coefficient\n",
        "7. Length of Kernel Groove\n",
        "\n",
        "Based on the attributes, the dataset contains 3 classes:\n",
        "\n",
        "1. Kama\n",
        "2. Rosa\n",
        "3. Canadian\n",
        "\n",
        "The text file `seeds_dataset.txt` contains the dataset. The first 7 columns are the attributes and the last column is the class label. The class labels are encoded as  1, 2, and 3 for Kama, Rosa, and Canadian, respectively. The goal of this assignment is to build a classifier that can predict the type of wheat seed based on the measurements of the seed. Follow the instructions below to complete the assignment."
      ]
    },
    {
      "cell_type": "markdown",
      "metadata": {
        "id": "BVYEX8-ihVWS"
      },
      "source": [
        "#### **Instructions**\n",
        "\n",
        "1. Download the dataset from [Github](https://minhaskamal.github.io/DownGit/#/home?url=https://github.com/mirsazzathossain/CSE317-Lab-Numerical-Methods/blob/main/datasets/seeds_dataset.txt). It should be saved as `seeds_dataset.txt`.\n",
        "2. Upload the dataset to your Google Drive and mount your Google Drive to Colab.\n",
        "3. Read the dataset using numpy's built-in function `np.genfromtxt()`. Pass the following parameters to the function:\n",
        "    - `fname`: The path to the dataset\n",
        "    - `delimiter`: The delimiter used in the dataset to separate the attributes (Hint: Use `'\\t'` as the delimiter)\n",
        "    \n",
        "4. Shuffle the dataset using `np.random.shuffle()`. Pass the following parameters to the function:\n",
        "    - `x`: The dataset\n",
        "5. Split the dataset into features and labels. The first 7 columns of the dataset are the features and the last column is the label. Use numpy's array slicing to split the dataset into features and labels. (Hint: Use `:` to select all the rows and `0:7` to select the first 7 columns for features and `7` to select the last column for labels)\n",
        "6. Split the dataset into training and testing sets. Use numpy's built-in function `np.split()` to split the dataset into training and testing sets. Pass the following parameters to the function:\n",
        "    - `ary`: The dataset\n",
        "    - `indices_or_sections`: The number of instances in the training set (Hint: Use `int(0.8 * len(dataset))` to get the number of instances in the training set)\n",
        "    - `axis`: The axis to split the dataset (Hint: Use `0` to split the dataset along the rows)\n",
        "7. Find the minimum and maximum values of each feature in the training set. Use numpy's built-in function `np.min()` and `np.max()` to find the minimum and maximum values of each feature in the training set. Pass the following parameters to the function:\n",
        "    - `a`: The training set\n",
        "    - `axis`: The axis to find the minimum and maximum values (Hint: Use `0` to find the minimum and maximum values along the columns)\n",
        "8. In this step, you must normalize the training and test sets. Nomalization is an essential part of every machine learning project. It is used to bring all the features to the same scale. If the features are not normalized, the higher-valued features will outnumber the lower-valued ones.\n",
        "\n",
        "    For example, suppose we have a dataset with two features: the number of bedrooms in a house and the size of the garden in square feet and we are trying to forecast the rent of the residence. If the features are not normalized, the feature with higher values will take precedence over the feature with lower values. In this scenario, the garden area has a greater value. As a result, the model will make an attempt to forecast the house's price depending on the size of the garden. As a consequence, the model will be faulty since most individuals will not pay higher rent for more garden area. We need to normalize the features in order to prevent this. Let's look at the following illustration to better comprehend what we have said:\n",
        "    \n",
        "    - House 1: 2 bedrooms, 2500 sq. ft. garden\n",
        "    - House 2: 3 bedrooms, 500 sq. ft. garden\n",
        "    - House 3: 7 bedrooms, 2300 sq. ft. garden\n",
        "\n",
        "    Considering that most people won't pay more for a larger garden, it follows that the rent for House 1 should be more comparable to House 2 than to House 3. However, if we give the aforementioned data to a k-NN classifier without normalization, it will compute the euclidean distance between the test and training examples and pick the class of the test instance based on the class of the closest training instance.\n",
        "\n",
        "    The euclidean distance between the test instance and the training instances will be:\n",
        "\n",
        "    - Distance between house 1 and house 2: $\\sqrt{(2-3)^2 + (2500-500)^2} = 2000$\n",
        "    - Distance between house 1 and house 3: $\\sqrt{(2-7)^2 + (2500-2300)^2} = 200$\n",
        "\n",
        "    As you can see, the distance between houses 1 and 3 is shorter than that between houses 1 and 2. As a result, the model will forecast that house 1 will cost around the same as house 3. This is not what was anticipated. We need to normalize the features in order to prevent this. To normalize the features, subtract the minimum value of each feature from all the values of that feature and divide the result by the range of the feature. The range of a feature is the difference between the maximum and minimum values of that feature. The formula for normalization is given below:\n",
        "\n",
        "    $$x_{normalized} = \\frac{x - min(x)}{max(x) - min(x)}$$\n",
        "\n",
        "    where $x$ is the feature vector. The above formula will normalize the features to a scale of 0 to 1.\n",
        "\n",
        "    Let's normalize the features in the above example. To do so, we need to find the minimum and maximum values of each feature. The minimum and maximum values of the number of bedrooms are 2 and 7, respectively. The minimum and maximum values of the garden area are 500 and 2500, respectively. The normalized values of the features are given below:\n",
        "\n",
        "    - House 1: $(2 - 2) / 5 = 0$ bedrooms, $(2500 - 500) / 2000 = 0.75$ sq. ft. garden\n",
        "    - House 2: $(3 - 2) / 5 = 0.2$ bedrooms, $(500 - 500) / 2000 = 0$ sq. ft. garden\n",
        "    - House 3: $(7 - 2) / 5 = 1$ bedrooms, $(2300 - 500) / 2000 = 0.85$ sq. ft. garden\n",
        "\n",
        "    Now, the euclidean distance between the test instance and the training instances will be:\n",
        "\n",
        "    - Distance between house 1 and house 2: $\\sqrt{(0-0.2)^2 + (0.75-0)^2} = 0.77$\n",
        "    - Distance between house 1 and house 3: $\\sqrt{(0-1)^2 + (0.75-0.9)^2} = 1.11$\n",
        "\n",
        "    As you can see now, the distance between houses 1 and 2 is shorter than that between houses 1 and 3. The model will thus forecast that house 1 will cost about the same as house 2, according to the prediction. This is what is anticipated. This is what normalization does. It equalizes the scale of all features. This is important because it prevents the features with higher values from dominating the features with lower values.\n",
        "\n",
        "    Use the minimum and maximum values you found in the previous step to normalize the training and test sets.\n",
        "9. Now, you have to build a classifier to classify the type of wheat seed based on the measurements of the seed. Use the K-Nearest Neighbors algorithm to build the classifier. Use the Euclidean distance to find the nearest neighbors.\n",
        "\n",
        "10. Output the number of data points in the testing set and the number of correct predictions made by the classifier for each class."
      ]
    },
    {
      "cell_type": "code",
      "source": [
        "import os\n",
        "import numpy as np\n",
        "from io import StringIO\n",
        "import matplotlib.pyplot as plt\n",
        "from sklearn.metrics import confusion_matrix\n",
        "from sklearn.neighbors import KNeighborsClassifier"
      ],
      "metadata": {
        "id": "182NzJmI3fEx"
      },
      "execution_count": 20,
      "outputs": []
    },
    {
      "cell_type": "code",
      "source": [
        "from google.colab import drive\n",
        "drive.mount('/content/drive')\n",
        "fname='/content/drive/MyDrive/py assignment3 dataset/seeds_dataset.txt'\n",
        "dataSet=np.genfromtxt(fname,delimiter='\\t')\n",
        "print(dataSet)"
      ],
      "metadata": {
        "colab": {
          "base_uri": "https://localhost:8080/"
        },
        "id": "c6ucADYO4U5W",
        "outputId": "96f5dc52-4810-4de3-ebf9-5b92fa619b33"
      },
      "execution_count": null,
      "outputs": [
        {
          "output_type": "stream",
          "name": "stdout",
          "text": [
            "Mounted at /content/drive\n",
            "[[15.26   14.84    0.871  ...  2.221   5.22    1.    ]\n",
            " [14.88   14.57    0.8811 ...  1.018   4.956   1.    ]\n",
            " [14.29   14.09    0.905  ...  2.699   4.825   1.    ]\n",
            " ...\n",
            " [13.2    13.66    0.8883 ...  8.315   5.056   3.    ]\n",
            " [11.84   13.21    0.8521 ...  3.598   5.044   3.    ]\n",
            " [12.3    13.34    0.8684 ...  5.637   5.063   3.    ]]\n"
          ]
        }
      ]
    },
    {
      "cell_type": "code",
      "source": [
        "shuffleData=dataSet\n",
        "np.random.shuffle(shuffleData)\n",
        "print(shuffleData)"
      ],
      "metadata": {
        "colab": {
          "base_uri": "https://localhost:8080/"
        },
        "id": "AxD80sSP7hmx",
        "outputId": "418453b5-91c3-4490-b2d7-694f09bed4c4"
      },
      "execution_count": null,
      "outputs": [
        {
          "output_type": "stream",
          "name": "stdout",
          "text": [
            "[[15.88   14.9     0.8988 ...  0.7651  5.091   1.    ]\n",
            " [12.46   13.41    0.8706 ...  4.987   5.147   3.    ]\n",
            " [14.59   14.28    0.8993 ...  4.185   4.781   1.    ]\n",
            " ...\n",
            " [19.14   16.61    0.8722 ...  6.682   6.053   2.    ]\n",
            " [17.98   15.85    0.8993 ...  2.257   5.919   2.    ]\n",
            " [18.98   16.66    0.859  ...  3.691   6.498   2.    ]]\n"
          ]
        }
      ]
    },
    {
      "cell_type": "code",
      "source": [
        "arrSet=np.array(shuffleData[:,0:7])\n",
        "print(arrSet)\n",
        "arrLabel=np.array(shuffleData[:,7])\n",
        "print(arrLabel)"
      ],
      "metadata": {
        "colab": {
          "base_uri": "https://localhost:8080/"
        },
        "id": "VDpJr_uF8d26",
        "outputId": "0873cb32-f2c9-4211-dae8-9fbaa5a2a7fe"
      },
      "execution_count": null,
      "outputs": [
        {
          "output_type": "stream",
          "name": "stdout",
          "text": [
            "[[15.88   14.9     0.8988 ...  3.507   0.7651  5.091 ]\n",
            " [12.46   13.41    0.8706 ...  3.017   4.987   5.147 ]\n",
            " [14.59   14.28    0.8993 ...  3.333   4.185   4.781 ]\n",
            " ...\n",
            " [19.14   16.61    0.8722 ...  3.737   6.682   6.053 ]\n",
            " [17.98   15.85    0.8993 ...  3.687   2.257   5.919 ]\n",
            " [18.98   16.66    0.859  ...  3.67    3.691   6.498 ]]\n",
            "[1. 3. 1. 2. 1. 2. 2. 1. 1. 3. 2. 1. 3. 2. 3. 3. 1. 1. 1. 2. 1. 3. 3. 1.\n",
            " 2. 3. 1. 3. 2. 2. 1. 1. 3. 2. 3. 2. 2. 3. 2. 3. 3. 1. 3. 1. 1. 1. 2. 1.\n",
            " 3. 3. 1. 3. 3. 3. 1. 2. 2. 3. 1. 3. 2. 3. 1. 1. 1. 3. 1. 1. 3. 2. 3. 1.\n",
            " 2. 2. 1. 3. 2. 3. 1. 2. 1. 2. 3. 1. 2. 1. 3. 3. 3. 1. 1. 1. 3. 1. 1. 3.\n",
            " 1. 2. 3. 3. 3. 1. 2. 3. 2. 2. 1. 2. 1. 3. 1. 1. 1. 1. 3. 3. 3. 2. 1. 2.\n",
            " 2. 1. 3. 1. 2. 2. 3. 3. 3. 1. 2. 3. 2. 2. 2. 1. 3. 2. 3. 3. 2. 2. 1. 3.\n",
            " 1. 1. 2. 1. 2. 2. 3. 2. 1. 3. 1. 3. 1. 2. 1. 3. 3. 2. 2. 2. 2. 2. 3. 3.\n",
            " 1. 2. 2. 2. 3. 1. 2. 2. 2. 1. 3. 1. 2. 2. 2. 3. 2. 1. 3. 3. 2. 1. 1. 3.\n",
            " 2. 3. 3. 3. 2. 1. 1. 3. 2. 2. 1. 3. 1. 2. 3. 2. 2. 2.]\n"
          ]
        }
      ]
    },
    {
      "cell_type": "code",
      "source": [
        "trainf,testf=np.split(arrSet,[int(0.8 * len(arrSet))],axis=0)\n",
        "print(\"Train Feature: \",trainf)\n",
        "print(\"Test Feature: \",testf)\n",
        "minTrainFeature=np.min(trainf,0)\n",
        "print(\"Min Train Feature: \",minTrainFeature)\n",
        "minTestFeature=np.min(testf,0)\n",
        "print(\"Min Train Label: \",minTestFeature)\n",
        "maxTrainFeature=np.max(trainf,0)\n",
        "print(\"Max Train Feature: \",maxTrainFeature)\n",
        "maxTestFeature=np.max(testf,0)\n",
        "print(\"Max Train Label: \",maxTestFeature)\n",
        "trainl,testl=np.split(arrLabel,[int(0.8 * len(arrLabel))],axis=0)\n",
        "print(\"Train Label: \",trainl)\n",
        "print(\"Test Label: \",testl)"
      ],
      "metadata": {
        "id": "oS9WIpSqA8Up"
      },
      "execution_count": null,
      "outputs": []
    },
    {
      "cell_type": "code",
      "source": [
        "trainNorm=(trainf-minTrainFeature)/(maxTrainFeature-minTrainFeature)\n",
        "print(\"Train Norm: \",trainNorm)\n",
        "testNorm=(testf-minTestFeature)/(maxTestFeature-minTestFeature)\n",
        "print(\"Test Norm: \",testNorm)"
      ],
      "metadata": {
        "id": "lgOO8COiKDJe"
      },
      "execution_count": null,
      "outputs": []
    },
    {
      "cell_type": "code",
      "source": [
        "classifier = KNeighborsClassifier(n_neighbors=3)\n",
        "classifier.fit(trainf, trainl)\n",
        "predictions = classifier.predict(testf)\n",
        "score = classifier.score(testf, testl)\n",
        "print(f\"Accuracy: {score}\")\n",
        "print(\"Confusion Matrix: \",confusion_matrix(testl, predictions))\n",
        "print(\"Actual: \", testl)\n",
        "print(\"Predicted: \", predictions)\n",
        "\n",
        "for i in range(10):\n",
        "    if(testl[i]==1):\n",
        "      print(\"Actual: Kama\")\n",
        "    elif(testl[i]==2):\n",
        "      print(\"Actual: Rosa\")\n",
        "    elif(testl[i]==3):\n",
        "      print(\"Actual: Canadian\")\n",
        "    if(predictions[i]==1):\n",
        "      print(\"Predicted: Kama\")\n",
        "    elif(predictions[i]==2):\n",
        "      print(\"Predicted: Rosa\")\n",
        "    elif(predictions[i]==3):\n",
        "      print(\"Predicted: Canadian\")"
      ],
      "metadata": {
        "colab": {
          "base_uri": "https://localhost:8080/"
        },
        "id": "3HItMmlaYgqq",
        "outputId": "9dc9aa35-769e-47d3-c9f0-09af5e8986d4"
      },
      "execution_count": 22,
      "outputs": [
        {
          "output_type": "stream",
          "name": "stdout",
          "text": [
            "Accuracy: 0.8809523809523809\n",
            "Confusion Matrix:  [[11  0  0]\n",
            " [ 3 16  0]\n",
            " [ 2  0 10]]\n",
            "Actual:  [1. 2. 2. 2. 3. 1. 2. 2. 2. 1. 3. 1. 2. 2. 2. 3. 2. 1. 3. 3. 2. 1. 1. 3.\n",
            " 2. 3. 3. 3. 2. 1. 1. 3. 2. 2. 1. 3. 1. 2. 3. 2. 2. 2.]\n",
            "Predicted:  [1. 2. 2. 2. 3. 1. 2. 2. 1. 1. 3. 1. 2. 1. 2. 3. 2. 1. 3. 3. 2. 1. 1. 3.\n",
            " 2. 1. 3. 3. 2. 1. 1. 3. 2. 2. 1. 1. 1. 1. 3. 2. 2. 2.]\n",
            "Actual: Kama\n",
            "Predicted: Kama\n",
            "Actual: Rosa\n",
            "Predicted: Rosa\n",
            "Actual: Rosa\n",
            "Predicted: Rosa\n",
            "Actual: Rosa\n",
            "Predicted: Rosa\n",
            "Actual: Canadian\n",
            "Predicted: Canadian\n",
            "Actual: Kama\n",
            "Predicted: Kama\n",
            "Actual: Rosa\n",
            "Predicted: Rosa\n",
            "Actual: Rosa\n",
            "Predicted: Rosa\n",
            "Actual: Rosa\n",
            "Predicted: Kama\n",
            "Actual: Kama\n",
            "Predicted: Kama\n"
          ]
        }
      ]
    },
    {
      "cell_type": "code",
      "source": [
        "def accuracy(predictions, labels):\n",
        "    correct_predictions = np.sum(predictions == labels)\n",
        "    accuracy = round((correct_predictions / len(labels))*100, 3)\n",
        "    return accuracy, correct_predictions\n",
        "\n",
        "score, correct = accuracy(predictions, testl)\n",
        "print(\"Accuracy: {0}%\".format(score))\n",
        "print(\"Number of data points: {0}\".format(len(testl)))\n",
        "print(\"Correct predictions: {0}\".format(correct))"
      ],
      "metadata": {
        "colab": {
          "base_uri": "https://localhost:8080/"
        },
        "id": "9J27jGdZZsYK",
        "outputId": "1b063ed4-dfb4-4728-d6ca-84692276ab2e"
      },
      "execution_count": 23,
      "outputs": [
        {
          "output_type": "stream",
          "name": "stdout",
          "text": [
            "Accuracy: 88.095%\n",
            "Number of data points: 42\n",
            "Correct predictions: 37\n"
          ]
        }
      ]
    }
  ],
  "metadata": {
    "kernelspec": {
      "display_name": "Python 3",
      "language": "python",
      "name": "python3"
    },
    "language_info": {
      "codemirror_mode": {
        "name": "ipython",
        "version": 3
      },
      "file_extension": ".py",
      "mimetype": "text/x-python",
      "name": "python",
      "nbconvert_exporter": "python",
      "pygments_lexer": "ipython3",
      "version": "3.10.6 (tags/v3.10.6:9c7b4bd, Aug  1 2022, 21:53:49) [MSC v.1932 64 bit (AMD64)]"
    },
    "orig_nbformat": 4,
    "vscode": {
      "interpreter": {
        "hash": "b148fc9bfa8b60132af830e32e1690e4e023b803e92912df15b823b90141dda6"
      }
    },
    "colab": {
      "provenance": []
    }
  },
  "nbformat": 4,
  "nbformat_minor": 0
}